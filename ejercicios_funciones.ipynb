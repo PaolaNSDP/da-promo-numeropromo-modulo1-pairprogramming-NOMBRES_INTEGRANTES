{
 "cells": [
  {
   "cell_type": "code",
   "execution_count": 4,
   "metadata": {},
   "outputs": [
    {
     "data": {
      "text/plain": [
       "28.27"
      ]
     },
     "execution_count": 4,
     "metadata": {},
     "output_type": "execute_result"
    }
   ],
   "source": [
    "# Calcular area de un círculo\n",
    "import math\n",
    "def calcular_area_circulo(radio):\n",
    "    return round(math.pi*radio**2,2)\n",
    "calcular_area_circulo(3)"
   ]
  },
  {
   "cell_type": "code",
   "execution_count": 5,
   "metadata": {},
   "outputs": [
    {
     "data": {
      "text/plain": [
       "20"
      ]
     },
     "execution_count": 5,
     "metadata": {},
     "output_type": "execute_result"
    }
   ],
   "source": [
    "# crear funcion para contar caracteres en una cadena de texto\n",
    "def contar_caracteres(cadena):\n",
    "    return len(cadena)\n",
    "contar_caracteres(\"cadena de caracteres\")"
   ]
  },
  {
   "cell_type": "code",
   "execution_count": 10,
   "metadata": {},
   "outputs": [
    {
     "data": {
      "text/plain": [
       "True"
      ]
     },
     "execution_count": 10,
     "metadata": {},
     "output_type": "execute_result"
    }
   ],
   "source": [
    "# crear funcion que nos diga si una cadena es un palíndromo\n",
    "# cadena[::-1] slicing que crea una cadena en orden inverso a la original\n",
    "def es_palindromo(cadena):\n",
    "    return cadena == cadena[::-1] \n",
    "es_palindromo('alala')"
   ]
  },
  {
   "cell_type": "code",
   "execution_count": 12,
   "metadata": {},
   "outputs": [
    {
     "data": {
      "text/plain": [
       "5.5"
      ]
     },
     "execution_count": 12,
     "metadata": {},
     "output_type": "execute_result"
    }
   ],
   "source": [
    "# calcular el promedio o media de una lista de numeros\n",
    "def calcular_promedio(numeros):\n",
    "    return sum(numeros)/len(numeros)\n",
    "calcular_promedio([1,2,3,4,5,6,7,8,9,10])"
   ]
  },
  {
   "cell_type": "code",
   "execution_count": 15,
   "metadata": {},
   "outputs": [
    {
     "data": {
      "text/plain": [
       "1219.39"
      ]
     },
     "execution_count": 15,
     "metadata": {},
     "output_type": "execute_result"
    }
   ],
   "source": [
    "# calcular interes compuesto a partir de 3 parámetros\n",
    "def calcular_interes_compuesto(capital, interes, periodos):\n",
    "    capital_total=round(capital*((1+interes/periodos)**periodos),2)\n",
    "    return capital_total\n",
    "calcular_interes_compuesto(1000,0.2,12)"
   ]
  },
  {
   "cell_type": "code",
   "execution_count": 17,
   "metadata": {},
   "outputs": [
    {
     "data": {
      "text/plain": [
       "True"
      ]
     },
     "execution_count": 17,
     "metadata": {},
     "output_type": "execute_result"
    }
   ],
   "source": [
    "# funcion para saber si una palabra es un anagrama de otra\n",
    "def es_anagrama(pal1,pal2):\n",
    "    return sorted(pal1)==sorted(pal2)\n",
    "es_anagrama('amor','roma')"
   ]
  },
  {
   "cell_type": "code",
   "execution_count": 18,
   "metadata": {},
   "outputs": [
    {
     "data": {
      "text/plain": [
       "False"
      ]
     },
     "execution_count": 18,
     "metadata": {},
     "output_type": "execute_result"
    }
   ],
   "source": [
    "# funcion para saber si una cadena de texto es un isograma\n",
    "def es_isograma(texto):\n",
    "    return len(set(texto))==len(texto)\n",
    "es_isograma('Hoy voy a cenar un bocadillo de pollo')"
   ]
  },
  {
   "cell_type": "code",
   "execution_count": 21,
   "metadata": {},
   "outputs": [
    {
     "data": {
      "text/plain": [
       "'Buenos días me llamo Paola estoy encantada de estar aquí'"
      ]
     },
     "execution_count": 21,
     "metadata": {},
     "output_type": "execute_result"
    }
   ],
   "source": [
    "# funcion para concaternar un número indeterminado de cadenas de texto\n",
    "def concatenar_cadenas(*args):\n",
    "    return ''.join(args)\n",
    "concatenar_cadenas('Buenos días',' ','me llamo Paola',' ', 'estoy encantada de estar aquí')"
   ]
  },
  {
   "cell_type": "code",
   "execution_count": 24,
   "metadata": {},
   "outputs": [
    {
     "data": {
      "text/plain": [
       "{'nombre': 'jose luis', 'apellido': 'moreno', 'edad': '46'}"
      ]
     },
     "execution_count": 24,
     "metadata": {},
     "output_type": "execute_result"
    }
   ],
   "source": [
    "# funcion para obtener un diccionario con datos personales introducidos\n",
    "def crear_persona(**kwargs):\n",
    "    return kwargs\n",
    "crear_persona(nombre='jose luis', apellido='moreno', edad='46')"
   ]
  },
  {
   "cell_type": "code",
   "execution_count": 29,
   "metadata": {},
   "outputs": [
    {
     "data": {
      "text/plain": [
       "13"
      ]
     },
     "execution_count": 29,
     "metadata": {},
     "output_type": "execute_result"
    }
   ],
   "source": [
    "#funcion para encontrar el numero que falta en una lista de numeros consecutivos\n",
    "def encontrar_numero_faltante(lista_numeros):\n",
    "    for i in range(len(lista_numeros)-1):\n",
    "        if lista_numeros[i+1] != lista_numeros[i]+1:\n",
    "            return lista_numeros[i]+1\n",
    "    return None\n",
    "lista_numeros = [1,2,3,4,5,6,7,8,9,10,11,12,14,15,16,17,18,19,20]\n",
    "encontrar_numero_faltante(lista_numeros) \n"
   ]
  },
  {
   "cell_type": "code",
   "execution_count": 26,
   "metadata": {},
   "outputs": [
    {
     "data": {
      "text/plain": [
       "13"
      ]
     },
     "execution_count": 26,
     "metadata": {},
     "output_type": "execute_result"
    }
   ],
   "source": [
    "# otra opcion para resolver el ejercicio anterior(la entiendo mejor)\n",
    "\n",
    "def encontrar_numero_faltante2(lista_numeros):\n",
    "    n=len(lista_numeros)+1\n",
    "    suma_actual= sum(lista_numeros)\n",
    "    suma_total= n*(lista_numeros[0]+lista_numeros[-1])//2\n",
    "    return suma_total-suma_actual\n",
    "lista_numeros = [1,2,3,4,5,6,7,8,9,10,11,12,14,15,16,17,18,19,20]\n",
    "encontrar_numero_faltante2(lista_numeros)\n"
   ]
  },
  {
   "cell_type": "code",
   "execution_count": 33,
   "metadata": {},
   "outputs": [
    {
     "data": {
      "text/plain": [
       "{5, 6, 8, 10}"
      ]
     },
     "execution_count": 33,
     "metadata": {},
     "output_type": "execute_result"
    }
   ],
   "source": [
    "# funcion para encontrar elemento duplicado en una lista de numeros\n",
    "numeros=[2,5,6,20,49,10,11,3,37,7,8,90,10,33,60,6,5,8]\n",
    "def encontrar_duplicado(listanum):\n",
    "    numeros_revisados=set() # creamos dos sets vacios para ir almacenando los datos del bucle\n",
    "    numeros_duplicados=set()\n",
    "    for numero in numeros:\n",
    "        if numero in numeros_revisados:\n",
    "            numeros_duplicados.add(numero)\n",
    "        else:\n",
    "            numeros_revisados.add(numero)\n",
    "    return numeros_duplicados\n",
    "encontrar_duplicado(numeros)\n"
   ]
  }
 ],
 "metadata": {
  "kernelspec": {
   "display_name": "Python 3",
   "language": "python",
   "name": "python3"
  },
  "language_info": {
   "codemirror_mode": {
    "name": "ipython",
    "version": 3
   },
   "file_extension": ".py",
   "mimetype": "text/x-python",
   "name": "python",
   "nbconvert_exporter": "python",
   "pygments_lexer": "ipython3",
   "version": "3.11.9"
  }
 },
 "nbformat": 4,
 "nbformat_minor": 2
}
