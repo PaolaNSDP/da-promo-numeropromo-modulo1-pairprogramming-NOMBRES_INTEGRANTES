{
 "cells": [
  {
   "cell_type": "code",
   "execution_count": null,
   "metadata": {},
   "outputs": [],
   "source": [
    "from datetime import datetime\n",
    "class Empleados:\n",
    "    def __init__(self, nombre, apellidos, edad, posicion, salario, año, vacaciones, herramientas):\n",
    "        self.nombre = nombre\n",
    "        self.apellidos = apellidos\n",
    "        self.edad = edad\n",
    "        self.posicion = posicion\n",
    "        self.salario = salario\n",
    "        self.año = año\n",
    "        self.vacaciones = vacaciones\n",
    "        self.herramientas = []\n",
    "    def descripcion(self):\n",
    "        print(f\"{self.nombre} trabaja de {self.posicion}, entró en el año {self.año} y le quedan {self.vacaciones} días de vacaciones.\")\n",
    "    def cambiando_posicion(self,herramientas):\n",
    "        for elementos in herramientas:\n",
    "            if elementos == \"python\":\n",
    "                print(f\"¡Bien hecho {self.nombre}, estas usando Python!\")\n",
    "            return\n",
    "        print(f\"{self.nombre} deja de usar Excel, aprende Python\")\n",
    "    def calcular_antiguedad(self,año):\n",
    "        fecha_actual = datetime.now().year\n",
    "        antiguedad = fecha_actual - año\n",
    "        print(f\"{self.nombre} lleva {antiguedad} años en la empresa\")\n",
    "    def solicitar_aumento_vacaciones(self, dias_solicitados):\n",
    "        if dias_solicitados > 0:\n",
    "            self.vacaciones = self.vacaciones + dias_solicitados\n",
    "            print(f\"Su solicitud de {dias_solicitados} de vacaciones ha sido confirmada, sus vacaciones actualmente son {self.vacaciones} días\")\n",
    "        else:\n",
    "            print(\"Debe solicitar un número positivo\")\n",
    "    def registrar_herramienta(self, nueva_herramienta):\n",
    "        if nueva_herramienta not in self.herramientas:\n",
    "            self.herramientas.append(nueva_herramienta)\n",
    "            print(f\"La herramienta {nueva_herramienta} ha sido añadida con éxito a sus herramientas\")\n",
    "        else:\n",
    "            print(f\"La herramienta {nueva_herramienta} ya ha sido registrada previamente\")\n",
    "    def cambiar_posicion(self, nueva_posicion, nuevo_salario):\n",
    "        self.posicion = nueva_posicion\n",
    "        self.salario = nuevo_salario\n",
    "        print(f\"La nueva posicion de {self.nombre} es {self.posicion} y su nuevo salario es {self.salario} euros\")\n",
    "    \n",
    "        \n",
    "        \n",
    "                "
   ]
  }
 ],
 "metadata": {
  "kernelspec": {
   "display_name": "Python 3",
   "language": "python",
   "name": "python3"
  },
  "language_info": {
   "codemirror_mode": {
    "name": "ipython",
    "version": 3
   },
   "file_extension": ".py",
   "mimetype": "text/x-python",
   "name": "python",
   "nbconvert_exporter": "python",
   "pygments_lexer": "ipython3",
   "version": "3.11.9"
  }
 },
 "nbformat": 4,
 "nbformat_minor": 2
}
