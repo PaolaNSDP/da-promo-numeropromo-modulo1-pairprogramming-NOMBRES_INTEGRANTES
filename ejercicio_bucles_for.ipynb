{
 "cells": [
  {
   "cell_type": "code",
   "execution_count": 1,
   "metadata": {},
   "outputs": [
    {
     "name": "stdout",
     "output_type": "stream",
     "text": [
      "0\n",
      "1\n",
      "2\n",
      "3\n",
      "4\n",
      "5\n"
     ]
    }
   ],
   "source": [
    "for i in range(6):\n",
    "    print(i)"
   ]
  },
  {
   "cell_type": "code",
   "execution_count": 7,
   "metadata": {},
   "outputs": [
    {
     "name": "stdout",
     "output_type": "stream",
     "text": [
      "[1, 2, 3, 4, 5, 6, 7, 8, 9, 10]\n",
      "Esta es la suma de [1, 2, 3, 4, 5, 6, 7, 8, 9, 10]: 55\n"
     ]
    }
   ],
   "source": [
    "lista_num_nat = []\n",
    "for i in range(1,11):\n",
    "    lista_num_nat.append(i)\n",
    "print(lista_num_nat)\n",
    "suma_num = sum(lista_num_nat)\n",
    "print(f\"Esta es la suma de {lista_num_nat}: {suma_num}\")"
   ]
  },
  {
   "cell_type": "code",
   "execution_count": null,
   "metadata": {},
   "outputs": [],
   "source": [
    "texto = \"Hola que tal estas\"\n",
    "for palabra in texto:\n",
    "    print(palabra)\n",
    "    "
   ]
  },
  {
   "cell_type": "code",
   "execution_count": 12,
   "metadata": {},
   "outputs": [
    {
     "name": "stdout",
     "output_type": "stream",
     "text": [
      "[2, 4, 6, 8, 10, 12, 14, 16, 18, 20, 22, 24, 26, 28, 30, 32, 34, 36, 38, 40, 42, 44, 46, 48, 50, 52, 54, 56, 58, 60, 62, 64, 66, 68, 70, 72, 74, 76, 78, 80, 82, 84, 86, 88, 90, 92, 94, 96, 98, 100]\n"
     ]
    }
   ],
   "source": [
    "num_pares = []\n",
    "for i in range(1,101):\n",
    "    if i%2==0:\n",
    "        num_pares.append(i)\n",
    "print(num_pares)\n",
    "    "
   ]
  },
  {
   "cell_type": "code",
   "execution_count": 16,
   "metadata": {},
   "outputs": [
    {
     "name": "stdout",
     "output_type": "stream",
     "text": [
      "[]\n"
     ]
    }
   ],
   "source": [
    "num_primos = []\n",
    "for i in range(1,51):\n",
    "    if i%i>1 and i%1>1:\n",
    "        num_primos.append(i)\n",
    "print(num_primos)"
   ]
  },
  {
   "cell_type": "code",
   "execution_count": null,
   "metadata": {},
   "outputs": [],
   "source": [
    "# Bucle para recorrer los números del 1 al 50\n",
    "for num in range(2, 51):  # Comienza desde 2 porque 1 no es primo\n",
    "    es_primo = True  # Suponemos que el número es primo\n",
    "    for i in range(2, num):  # Verificamos si tiene divisores\n",
    "        if num % i == 0:  # Si el número es divisible por i, no es primo\n",
    "            es_primo = False\n",
    "            break\n",
    "    if es_primo:  # Si no se encontró divisor, el número es primo\n",
    "        print(num)"
   ]
  },
  {
   "cell_type": "code",
   "execution_count": 26,
   "metadata": {},
   "outputs": [
    {
     "name": "stdout",
     "output_type": "stream",
     "text": [
      "el factorial de 5 es 120\n"
     ]
    }
   ],
   "source": [
    "numero = int(input('escribe un número'))\n",
    "if numero < 0:\n",
    "    print('los números negativos no tienen factoriales')\n",
    "    numero = int(input('escribe un número'))\n",
    "elif numero == 0 or numero == 1:\n",
    "    print(f'el factorial de {numero} es igual a 1')\n",
    "else:\n",
    "    factorial = 1\n",
    "    for i in range(1,numero+1):\n",
    "        factorial *= i\n",
    "    print(f'el factorial de {numero} es {factorial}')"
   ]
  },
  {
   "cell_type": "code",
   "execution_count": null,
   "metadata": {},
   "outputs": [],
   "source": []
  }
 ],
 "metadata": {
  "kernelspec": {
   "display_name": "Python 3",
   "language": "python",
   "name": "python3"
  },
  "language_info": {
   "codemirror_mode": {
    "name": "ipython",
    "version": 3
   },
   "file_extension": ".py",
   "mimetype": "text/x-python",
   "name": "python",
   "nbconvert_exporter": "python",
   "pygments_lexer": "ipython3",
   "version": "3.11.9"
  }
 },
 "nbformat": 4,
 "nbformat_minor": 2
}
